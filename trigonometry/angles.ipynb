{
 "cells": [
  {
   "cell_type": "code",
   "execution_count": 44,
   "id": "76930460",
   "metadata": {
    "ExecuteTime": {
     "end_time": "2021-09-25T10:34:32.952557Z",
     "start_time": "2021-09-25T10:34:32.950175Z"
    }
   },
   "outputs": [],
   "source": [
    "import numpy as np\n",
    "import matplotlib.pyplot as plt"
   ]
  },
  {
   "cell_type": "code",
   "execution_count": 45,
   "id": "9aee388b",
   "metadata": {
    "ExecuteTime": {
     "end_time": "2021-09-25T10:34:35.829704Z",
     "start_time": "2021-09-25T10:34:35.592255Z"
    }
   },
   "outputs": [
    {
     "data": {
      "image/png": "[encoded data removed]",
      "text/plain": [
       "<Figure size 432x288 with 1 Axes>"
      ]
     },
     "metadata": {
      "needs_background": "light"
     },
     "output_type": "display_data"
    }
   ],
   "source": [
    "def init_plt():\n",
    "    ax = plt.gca()\n",
    "    ax.spines['right'].set_color('none')\n",
    "    ax.spines['top'].set_color('none')\n",
    "    ax.xaxis.set_ticks_position('bottom')\n",
    "    ax.spines['bottom'].set_position(('data', 0))\n",
    "    ax.yaxis.set_ticks_position('left')\n",
    "    ax.spines['left'].set_position(('data', 0))\n",
    "    ax.set_aspect(1)\n",
    "\n",
    "    upper = 50\n",
    "    lower = -50\n",
    "    plt.xlim(lower, upper)\n",
    "    plt.ylim(lower, upper)\n",
    "\n",
    "def draw(X, Y, multiplier):\n",
    "    dot_X = X * multiplier\n",
    "    dot_Y = Y * multiplier\n",
    "    plt.plot(dot_X, dot_Y, 'r^')\n",
    "    \n",
    "    if (dot_X > 0):\n",
    "        label_X = dot_X + 0.8\n",
    "    else: \n",
    "        label_X = dot_X - 19\n",
    "        \n",
    "    if (dot_Y > 0):\n",
    "        label_Y = dot_Y + 0.8\n",
    "    else: \n",
    "        label_Y = dot_Y - 5\n",
    "        \n",
    "    plt.text(label_X, label_Y, \n",
    "             '(%.1f, %.1f)' % (X, Y))\n",
    "    x = np.linspace(0, X * multiplier, 100)\n",
    "    y = x * (Y / X)\n",
    "    plt.plot(x, y)\n",
    "\n",
    "init_plt()\n",
    "for angle in range(0, 360, 30):\n",
    "    angle_pi = angle * np.pi / 180\n",
    "    draw(np.cos(angle_pi), np.sin(angle_pi), 30)"
   ]
  },
  {
   "cell_type": "code",
   "execution_count": 46,
   "id": "edf0f197",
   "metadata": {
    "ExecuteTime": {
     "end_time": "2021-09-25T10:34:39.838596Z",
     "start_time": "2021-09-25T10:34:39.688968Z"
    },
    "scrolled": true
   },
   "outputs": [
    {
     "name": "stdout",
     "output_type": "stream",
     "text": [
      "for angle -30 , the reference angle is:  30\n",
      "the coterminal angles beteeen -720 to 720 are: [330, 690, -390]\n",
      "for angle 45 , the reference angle is:  45\n",
      "the coterminal angles beteeen -720 to 720 are: [405, -315, -675]\n",
      "for angle 405 , the reference angle is:  45\n",
      "the coterminal angles beteeen -720 to 720 are: [45, -315, -675]\n"
     ]
    },
    {
     "data": {
      "image/png": "[encoded data removed]",
      "text/plain": [
       "<Figure size 432x288 with 1 Axes>"
      ]
     },
     "metadata": {
      "needs_background": "light"
     },
     "output_type": "display_data"
    }
   ],
   "source": [
    "# convert the angle into range: 0 to 360\n",
    "def normalize(x):\n",
    "    while x >= 360:\n",
    "        x = x - 360\n",
    "        \n",
    "    while x < 0:\n",
    "        x = x + 360\n",
    "        \n",
    "    return x\n",
    "\n",
    "\n",
    "def reference(x):\n",
    "    output = 0\n",
    "\n",
    "    normalized_x = normalize(x)\n",
    "        \n",
    "    if normalized_x <= 90:\n",
    "        output = normalized_x\n",
    "    elif normalized_x <= 180 and normalized_x > 90:\n",
    "        output = 180 - normalized_x\n",
    "    elif normalized_x > 180 and normalized_x <= 270:\n",
    "        output = x - 180\n",
    "    elif normalized_x > 270 and normalized_x <= 360:\n",
    "        output = 360 - normalized_x\n",
    "\n",
    "    print(\"for angle\", x, \", the reference angle is: \", output)\n",
    "\n",
    "    \n",
    "def coterminal(x):\n",
    "    output1 = 0\n",
    "    output2 = 0\n",
    "    \n",
    "    remove_index = -1\n",
    "    \n",
    "    coterminal_list = []\n",
    "    \n",
    "    x_pi = x * np.pi / 180\n",
    "    \n",
    "    normalized_x = normalize(x)\n",
    "    \n",
    "    coterminal_list.append(normalized_x)\n",
    "    coterminal_list.append(360 + normalized_x)\n",
    "    coterminal_list.append(-1 * (360 - normalized_x))\n",
    "    coterminal_list.append(coterminal_list[2] - 360)\n",
    "      \n",
    "    for i in range(0, 4):\n",
    "        if coterminal_list[i] == x:\n",
    "            remove_index = i\n",
    "            \n",
    "    if remove_index != -1:     \n",
    "        coterminal_list.pop(remove_index)\n",
    "    \n",
    "    print(\"the coterminal angles beteeen -720 to 720 are:\", coterminal_list)\n",
    "    \n",
    "    \n",
    "def coordinates(angle, r): \n",
    "    angle_pi = angle * np.pi / 180\n",
    "\n",
    "    x = np.cos(angle_pi)\n",
    "    y = np.sin(angle_pi)\n",
    "    \n",
    "    init_plt()\n",
    "    draw(x, y, r)\n",
    "    \n",
    "\n",
    "def process_angle(angle, r):\n",
    "    reference(angle)\n",
    "    coterminal(angle)\n",
    "    coordinates(angle, r)\n",
    "    \n",
    "process_angle(-30, 50)\n",
    "process_angle(45, 50)\n",
    "process_angle(405, 50)"
   ]
  }
 ],
 "metadata": {
  "kernelspec": {
   "display_name": "Python 3",
   "language": "python",
   "name": "python3"
  },
  "language_info": {
   "codemirror_mode": {
    "name": "ipython",
    "version": 3
   },
   "file_extension": ".py",
   "mimetype": "text/x-python",
   "name": "python",
   "nbconvert_exporter": "python",
   "pygments_lexer": "ipython3",
   "version": "3.8.8"
  }
 },
 "nbformat": 4,
 "nbformat_minor": 5
}
